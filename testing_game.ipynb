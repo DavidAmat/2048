{
 "cells": [
  {
   "cell_type": "code",
   "execution_count": 21,
   "metadata": {},
   "outputs": [],
   "source": [
    "import numpy as np"
   ]
  },
  {
   "cell_type": "code",
   "execution_count": 1,
   "metadata": {},
   "outputs": [],
   "source": [
    "import random\n",
    "from tkinter import Frame, Label, CENTER\n",
    "\n",
    "# Importamos codigos .py\n",
    "import logic\n",
    "import constants as c\n",
    "\n",
    "\n",
    "class GameGrid(Frame):\n",
    "    def __init__(self):\n",
    "        Frame.__init__(self)\n",
    "\n",
    "        self.grid()\n",
    "        self.master.title('2048')\n",
    "        self.master.bind(\"<Key>\", self.key_down)\n",
    "\n",
    "        # self.gamelogic = gamelogic\n",
    "        self.commands = {c.KEY_UP: logic.up, c.KEY_DOWN: logic.down,\n",
    "                         c.KEY_LEFT: logic.left, c.KEY_RIGHT: logic.right,\n",
    "                         c.KEY_UP_ALT: logic.up, c.KEY_DOWN_ALT: logic.down,\n",
    "                         c.KEY_LEFT_ALT: logic.left,\n",
    "                         c.KEY_RIGHT_ALT: logic.right}\n",
    "\n",
    "        self.grid_cells = []\n",
    "        self.init_grid()\n",
    "        self.init_matrix()\n",
    "        self.update_grid_cells()\n",
    "\n",
    "        self.mainloop()\n",
    "\n",
    "    def init_grid(self):\n",
    "        background = Frame(self, bg=c.BACKGROUND_COLOR_GAME,\n",
    "                           width=c.SIZE, height=c.SIZE)\n",
    "        background.grid()\n",
    "\n",
    "        for i in range(c.GRID_LEN):\n",
    "            grid_row = []\n",
    "            for j in range(c.GRID_LEN):\n",
    "                cell = Frame(background, bg=c.BACKGROUND_COLOR_CELL_EMPTY,\n",
    "                             width=c.SIZE / c.GRID_LEN,\n",
    "                             height=c.SIZE / c.GRID_LEN)\n",
    "                cell.grid(row=i, column=j, padx=c.GRID_PADDING,\n",
    "                          pady=c.GRID_PADDING)\n",
    "                t = Label(master=cell, text=\"\",\n",
    "                          bg=c.BACKGROUND_COLOR_CELL_EMPTY,\n",
    "                          justify=CENTER, font=c.FONT, width=5, height=2)\n",
    "                t.grid()\n",
    "                grid_row.append(t)\n",
    "\n",
    "            self.grid_cells.append(grid_row)\n",
    "\n",
    "    def gen(self):\n",
    "        return random.randint(0, c.GRID_LEN - 1)\n",
    "\n",
    "    def init_matrix(self):\n",
    "        self.matrix = logic.new_game(4)\n",
    "        self.history_matrixs = list()\n",
    "        self.matrix = logic.add_two(self.matrix)\n",
    "        self.matrix = logic.add_two(self.matrix)\n",
    "\n",
    "    def update_grid_cells(self):\n",
    "        for i in range(c.GRID_LEN):\n",
    "            for j in range(c.GRID_LEN):\n",
    "                new_number = self.matrix[i][j]\n",
    "                if new_number == 0:\n",
    "                    self.grid_cells[i][j].configure(\n",
    "                        text=\"\", bg=c.BACKGROUND_COLOR_CELL_EMPTY)\n",
    "                else:\n",
    "                    self.grid_cells[i][j].configure(text=str(\n",
    "                        new_number), bg=c.BACKGROUND_COLOR_DICT[new_number],\n",
    "                        fg=c.CELL_COLOR_DICT[new_number])\n",
    "        self.update_idletasks()\n",
    "\n",
    "    def key_down(self, event):\n",
    "        key = repr(event.char)\n",
    "        if key == c.KEY_BACK and len(self.history_matrixs) > 1:\n",
    "            self.matrix = self.history_matrixs.pop()\n",
    "            self.update_grid_cells()\n",
    "            print('back on step total step:', len(self.history_matrixs))\n",
    "        elif key in self.commands:\n",
    "            self.matrix, done = self.commands[repr(event.char)](self.matrix)\n",
    "            if done:\n",
    "                self.matrix = logic.add_two(self.matrix)\n",
    "                # record last move\n",
    "                self.history_matrixs.append(self.matrix)\n",
    "                self.update_grid_cells()\n",
    "                done = False\n",
    "                if logic.game_state(self.matrix) == 'win':\n",
    "                    self.grid_cells[1][1].configure(\n",
    "                        text=\"You\", bg=c.BACKGROUND_COLOR_CELL_EMPTY)\n",
    "                    self.grid_cells[1][2].configure(\n",
    "                        text=\"Win!\", bg=c.BACKGROUND_COLOR_CELL_EMPTY)\n",
    "                if logic.game_state(self.matrix) == 'lose':\n",
    "                    self.grid_cells[1][1].configure(\n",
    "                        text=\"You\", bg=c.BACKGROUND_COLOR_CELL_EMPTY)\n",
    "                    self.grid_cells[1][2].configure(\n",
    "                        text=\"Lose!\", bg=c.BACKGROUND_COLOR_CELL_EMPTY)\n",
    "\n",
    "    def generate_next(self):\n",
    "        index = (self.gen(), self.gen())\n",
    "        while self.matrix[index[0]][index[1]] != 0:\n",
    "            index = (self.gen(), self.gen())\n",
    "        self.matrix[index[0]][index[1]] = 2\n",
    "\n",
    "\n"
   ]
  },
  {
   "cell_type": "code",
   "execution_count": 2,
   "metadata": {},
   "outputs": [],
   "source": [
    "gamegrid = GameGrid()"
   ]
  },
  {
   "cell_type": "code",
   "execution_count": 92,
   "metadata": {},
   "outputs": [],
   "source": [
    "#\n",
    "# CS1010FC --- Programming Methodology\n",
    "#\n",
    "# Mission N Solutions\n",
    "#\n",
    "# Note that written answers are commented out to allow us to run your\n",
    "# code easily while grading your problem set.\n",
    "import random\n",
    "\n",
    "#######\n",
    "#Task 1a#\n",
    "#######\n",
    "\n",
    "# [Marking Scheme]\n",
    "# Points to note:\n",
    "# Matrix elements must be equal but not identical\n",
    "# 1 mark for creating the correct matrix\n",
    "\n",
    "# Inicializa la matrix en blanco (4x4) lista de listas\n",
    "def new_game(n):\n",
    "    matrix = []\n",
    "\n",
    "    for i in range(n):\n",
    "        matrix.append([0] * n)\n",
    "    return matrix\n",
    "\n",
    "###########\n",
    "# Task 1b #\n",
    "###########\n",
    "\n",
    "# [Marking Scheme]\n",
    "# Points to note:\n",
    "# Must ensure that it is created on a zero entry\n",
    "# 1 mark for creating the correct loop\n",
    "\n",
    "\n",
    "def add_two(mat):\n",
    "    a = random.randint(0, len(mat)-1)\n",
    "    b = random.randint(0, len(mat)-1)\n",
    "    while(mat[a][b] != 0):\n",
    "        # Si ya existe esa posicion(ya hay un 2), elige otra\n",
    "        a = random.randint(0, len(mat)-1)\n",
    "        b = random.randint(0, len(mat)-1)\n",
    "    mat[a][b] = 2 #siempre inicializamos el juego con 2 numeros 2\n",
    "    return mat\n",
    "\n",
    "###########\n",
    "# Task 1c #\n",
    "###########\n",
    "\n",
    "# [Marking Scheme]\n",
    "# Points to note:\n",
    "# Matrix elements must be equal but not identical\n",
    "# 0 marks for completely wrong solutions\n",
    "# 1 mark for getting only one condition correct\n",
    "# 2 marks for getting two of the three conditions\n",
    "# 3 marks for correct checking\n",
    "\n",
    "\n",
    "def game_state(mat):\n",
    "    for i in range(len(mat)):\n",
    "        for j in range(len(mat[0])):\n",
    "            if mat[i][j] == 2048:\n",
    "                return 'win'\n",
    "    for i in range(len(mat)-1):\n",
    "        # intentionally reduced to check the row on the right and below\n",
    "        # more elegant to use exceptions but most likely this will be their solution\n",
    "        for j in range(len(mat[0])-1):\n",
    "            if mat[i][j] == mat[i+1][j] or mat[i][j+1] == mat[i][j]:\n",
    "                return 'not over'\n",
    "    for i in range(len(mat)):  # check for any zero entries\n",
    "        for j in range(len(mat[0])):\n",
    "            if mat[i][j] == 0:\n",
    "                return 'not over'\n",
    "    for k in range(len(mat)-1):  # to check the left/right entries on the last row\n",
    "        if mat[len(mat)-1][k] == mat[len(mat)-1][k+1]:\n",
    "            return 'not over'\n",
    "    for j in range(len(mat)-1):  # check up/down entries on last column\n",
    "        if mat[j][len(mat)-1] == mat[j+1][len(mat)-1]:\n",
    "            return 'not over'\n",
    "    return 'lose'\n",
    "\n",
    "###########\n",
    "# Task 2a #\n",
    "###########\n",
    "\n",
    "# [Marking Scheme]\n",
    "# Points to note:\n",
    "# 0 marks for completely incorrect solutions\n",
    "# 1 mark for solutions that show general understanding\n",
    "# 2 marks for correct solutions that work for all sizes of matrices\n",
    "\n",
    "\n",
    "def reverse(mat):\n",
    "    new = []\n",
    "    for i in range(len(mat)):\n",
    "        new.append([])\n",
    "        for j in range(len(mat[0])):\n",
    "            new[i].append(mat[i][len(mat[0])-j-1])\n",
    "    return new\n",
    "\n",
    "###########\n",
    "# Task 2b #\n",
    "###########\n",
    "\n",
    "# [Marking Scheme]\n",
    "# Points to note:\n",
    "# 0 marks for completely incorrect solutions\n",
    "# 1 mark for solutions that show general understanding\n",
    "# 2 marks for correct solutions that work for all sizes of matrices\n",
    "\n",
    "\n",
    "def transpose(mat):\n",
    "    new = []\n",
    "    for i in range(len(mat[0])):\n",
    "        new.append([])\n",
    "        for j in range(len(mat)):\n",
    "            new[i].append(mat[j][i])\n",
    "    return new\n",
    "\n",
    "##########\n",
    "# Task 3 #\n",
    "##########\n",
    "\n",
    "# [Marking Scheme]\n",
    "# Points to note:\n",
    "# The way to do movement is compress -> merge -> compress again\n",
    "# Basically if they can solve one side, and use transpose and reverse correctly they should\n",
    "# be able to solve the entire thing just by flipping the matrix around\n",
    "# No idea how to grade this one at the moment. I have it pegged to 8 (which gives you like,\n",
    "# 2 per up/down/left/right?) But if you get one correct likely to get all correct so...\n",
    "# Check the down one. Reverse/transpose if ordered wrongly will give you wrong result.\n",
    "\n",
    "\n",
    "def cover_up(mat):\n",
    "    new = [[0, 0, 0, 0], [0, 0, 0, 0], [0, 0, 0, 0], [0, 0, 0, 0]]\n",
    "    done = False\n",
    "    for i in range(4):\n",
    "        count = 0\n",
    "        for j in range(4):\n",
    "            if mat[i][j] != 0:\n",
    "                new[i][count] = mat[i][j]\n",
    "                if j != count:\n",
    "                    done = True\n",
    "                count += 1\n",
    "    return (new, done)\n",
    "\n",
    "\n",
    "def merge(mat):\n",
    "    done = False\n",
    "    for i in range(4):\n",
    "        for j in range(3):\n",
    "            if mat[i][j] == mat[i][j+1] and mat[i][j] != 0:\n",
    "                mat[i][j] *= 2\n",
    "                mat[i][j+1] = 0\n",
    "                done = True\n",
    "    return (mat, done)\n",
    "\n",
    "\n",
    "def up(game):\n",
    "    print(\"up\")\n",
    "    # return matrix after shifting up\n",
    "    game = transpose(game)\n",
    "    game, done = cover_up(game)\n",
    "    temp = merge(game)\n",
    "    game = temp[0]\n",
    "    done = done or temp[1]\n",
    "    game = cover_up(game)[0]\n",
    "    game = transpose(game)\n",
    "    return (game, done)\n",
    "\n",
    "\n",
    "def down(game):\n",
    "    print(\"down\")\n",
    "    game = reverse(transpose(game))\n",
    "    game, done = cover_up(game)\n",
    "    temp = merge(game)\n",
    "    game = temp[0]\n",
    "    done = done or temp[1]\n",
    "    game = cover_up(game)[0]\n",
    "    game = transpose(reverse(game))\n",
    "    return (game, done)\n",
    "\n",
    "\n",
    "\n",
    "\n",
    "\n",
    "def right(game):\n",
    "    print(\"right\")\n",
    "    # return matrix after shifting right\n",
    "    game = reverse(game)\n",
    "    game, done = cover_up(game)\n",
    "    temp = merge(game)\n",
    "    game = temp[0]\n",
    "    done = done or temp[1]\n",
    "    game = cover_up(game)[0]\n",
    "    game = reverse(game)\n",
    "    return (game, done)\n",
    "\n",
    "\n",
    "# DAVID\n",
    "def transpose2(game):\n",
    "    return np.array(game).transpose().tolist()"
   ]
  },
  {
   "cell_type": "code",
   "execution_count": 4,
   "metadata": {},
   "outputs": [],
   "source": [
    "import random\n",
    "from collections import Counter"
   ]
  },
  {
   "cell_type": "code",
   "execution_count": 5,
   "metadata": {},
   "outputs": [
    {
     "data": {
      "text/plain": [
       "Counter({2: 19, 4: 11, 0: 25, 1: 23, 3: 22})"
      ]
     },
     "execution_count": 5,
     "metadata": {},
     "output_type": "execute_result"
    }
   ],
   "source": [
    "Counter([random.randint(0, 4) for _ in range(100)])"
   ]
  },
  {
   "cell_type": "code",
   "execution_count": 6,
   "metadata": {},
   "outputs": [],
   "source": [
    "def new_game(n):\n",
    "    matrix = []\n",
    "\n",
    "    for i in range(n):\n",
    "        matrix.append([0] * n)\n",
    "    return matrix"
   ]
  },
  {
   "cell_type": "code",
   "execution_count": 8,
   "metadata": {},
   "outputs": [],
   "source": [
    "mat = new_game(4)"
   ]
  },
  {
   "cell_type": "code",
   "execution_count": 9,
   "metadata": {},
   "outputs": [],
   "source": [
    "def add_two(mat):\n",
    "    a = random.randint(0, len(mat)-1)\n",
    "    b = random.randint(0, len(mat)-1)\n",
    "    while(mat[a][b] != 0):\n",
    "        a = random.randint(0, len(mat)-1)\n",
    "        b = random.randint(0, len(mat)-1)\n",
    "    mat[a][b] = 2\n",
    "    return mat"
   ]
  },
  {
   "cell_type": "code",
   "execution_count": 11,
   "metadata": {},
   "outputs": [],
   "source": [
    "x = add_two(mat)"
   ]
  },
  {
   "cell_type": "code",
   "execution_count": 14,
   "metadata": {},
   "outputs": [
    {
     "data": {
      "text/plain": [
       "0"
      ]
     },
     "execution_count": 14,
     "metadata": {},
     "output_type": "execute_result"
    }
   ],
   "source": [
    "x[1][1]"
   ]
  },
  {
   "cell_type": "code",
   "execution_count": 17,
   "metadata": {},
   "outputs": [],
   "source": [
    "import tkinter as tk\n",
    "import time\n",
    "\n",
    "top = tk.Tk()\n",
    "\n",
    "def addText():\n",
    "    # make first change\n",
    "    oldText = L.cget(\"text\")\n",
    "    newText = oldText + '\\nfirst change'\n",
    "    L.configure(text=newText)\n",
    "\n",
    "    # wait 2 seconds\n",
    "    top.update_idletasks()\n",
    "    time.sleep(2)\n",
    "\n",
    "    # make second change\n",
    "    newText += '\\nsecond change'\n",
    "    L.configure(text=newText)\n",
    "\n",
    "B = tk.Button(top, text =\"Change text\", command = addText)\n",
    "L = tk.Label(top,text='orignal text')\n",
    "\n",
    "B.pack()\n",
    "L.pack()\n",
    "top.mainloop()"
   ]
  },
  {
   "cell_type": "code",
   "execution_count": 18,
   "metadata": {},
   "outputs": [],
   "source": [
    "time.sleep(5)"
   ]
  },
  {
   "cell_type": "code",
   "execution_count": 31,
   "metadata": {},
   "outputs": [],
   "source": []
  },
  {
   "cell_type": "code",
   "execution_count": 34,
   "metadata": {},
   "outputs": [
    {
     "name": "stdout",
     "output_type": "stream",
     "text": [
      "up\n"
     ]
    },
    {
     "data": {
      "text/plain": [
       "array([[0, 0, 2, 2],\n",
       "       [0, 0, 0, 0],\n",
       "       [0, 0, 0, 0],\n",
       "       [0, 0, 0, 0]])"
      ]
     },
     "execution_count": 34,
     "metadata": {},
     "output_type": "execute_result"
    }
   ],
   "source": [
    "tomat(up(mat))"
   ]
  },
  {
   "cell_type": "markdown",
   "metadata": {},
   "source": [
    "# Testing UP / DOWN"
   ]
  },
  {
   "cell_type": "code",
   "execution_count": 173,
   "metadata": {},
   "outputs": [],
   "source": [
    "def arrow_mat(x):\n",
    "    return np.array(x[0])\n",
    "\n",
    "def viewmat(x):\n",
    "    return np.array(x)"
   ]
  },
  {
   "cell_type": "code",
   "execution_count": 274,
   "metadata": {},
   "outputs": [],
   "source": [
    "def displacement_numbers(mat):\n",
    "    new = new_game(GRID_LEN) # crea una matrix de 0 de AxA (donde A es la GRID_LEN)\n",
    "    done = False\n",
    "    for i in range(GRID_LEN):\n",
    "        # Inspecciona una fila\n",
    "        count = 0\n",
    "        for j in range(GRID_LEN):\n",
    "            # Si en esa fila hay un elemento no nulo\n",
    "            if mat[i][j] != 0:\n",
    "                # Pone ese elemento en la posicion count (columna), donde esta vendra determinada por si\n",
    "                # en esa fila, previamente, hemos encotrado algun otro elemento NO nulo\n",
    "                new[i][count] = mat[i][j]\n",
    "                \n",
    "                # Solo con que modifiquemos la posicion de una de los numeros, ya contara como un movimiento: done = True\n",
    "                if j != count:\n",
    "                    done = True\n",
    "                    \n",
    "                # Suma al count una posicion ya que ya se ha movido a la izquerda de todo (columna 0) ese elemento\n",
    "                count += 1\n",
    "    return (new, done)\n",
    "\n",
    "def merge_numbers(mat):\n",
    "    done = False\n",
    "    for i in range(GRID_LEN):\n",
    "        for j in range(GRID_LEN-1): # la ultima columna j, no tiene una columna a su derecha (j+1)\n",
    "            if mat[i][j] == mat[i][j+1] and mat[i][j] != 0: # si son iguales, y esta igualdad son numeros > 0, se suman\n",
    "                mat[i][j] *= 2\n",
    "                mat[i][j+1] = 0 # se deja la de la derecha vacía, esto hace que se necesite hacer otro displacement para llenar ese hueco\n",
    "                # esto tambien hace que al leer la siguiente columna, se lea un 0, y no el numero que estaba\n",
    "                done = True\n",
    "    return (mat, done)\n",
    "\n",
    "def ro(mat, cw = True, num = 1): #cw: clockwise: True or False, #num: number of rotations\n",
    "    param_clockise = (1,0)\n",
    "    if not cw:\n",
    "        param_clockise = (0,1)\n",
    "    \n",
    "    # Cuantas rotaciones hacemos\n",
    "    rot_mat = mat\n",
    "    for _ in range(num):\n",
    "        rot_mat = np.rot90(np.array(rot_mat), axes = param_clockise)\n",
    "    \n",
    "    return rot_mat.tolist()      "
   ]
  },
  {
   "cell_type": "code",
   "execution_count": 345,
   "metadata": {},
   "outputs": [],
   "source": [
    "def add_two(mat, times = 1):\n",
    "    for _ in range(times):\n",
    "        a, b = [random.randint(0, len(mat)-1) for _ in range(2)]\n",
    "        while(mat[a][b] != 0):\n",
    "            # Si ya existe esa posicion(ya hay un 2), elige otra\n",
    "            a, b = [random.randint(0, len(mat)-1) for _ in range(2)]\n",
    "        mat[a][b] = 2 #siempre inicializamos el juego con 2 numeros 2\n",
    "    return mat"
   ]
  },
  {
   "cell_type": "code",
   "execution_count": 346,
   "metadata": {},
   "outputs": [
    {
     "data": {
      "text/plain": [
       "[[0, 0, 0, 0], [0, 0, 0, 0], [0, 0, 2, 0], [0, 2, 0, 0]]"
      ]
     },
     "execution_count": 346,
     "metadata": {},
     "output_type": "execute_result"
    }
   ],
   "source": [
    "mat = new_game(4)\n",
    "add_two(mat, times = 2)"
   ]
  },
  {
   "cell_type": "markdown",
   "metadata": {},
   "source": [
    "## Left"
   ]
  },
  {
   "cell_type": "code",
   "execution_count": 334,
   "metadata": {},
   "outputs": [],
   "source": [
    "def left(game):\n",
    "    \"\"\"\n",
    "    1 - mover al maximo a la izquierda todos los numeros\n",
    "    2 - Sumamos los iguales dejando 0 en el segundo sumando\n",
    "    3 - Por seguridad, por si hemos dejado alguno sin desplazar a la izquierda (huecos generados por el merge),\n",
    "        se vuelve a aplicar sin importar el done o no (no importa si mueve a alguien o no ahora)\n",
    "    \"\"\"\n",
    "    game_disp, done_disp = displacement_numbers(game)\n",
    "    game_merged, done_merge = merge_numbers(game_disp) #la salida es una tupla (mat, done)\n",
    "    game_final = displacement_numbers(game_merged)[0]\n",
    "    return (game_final, done_disp or done_merge)\n",
    "\n",
    "def down(game):\n",
    "    \"\"\"\n",
    "    C - L - UC\n",
    "    \"\"\"\n",
    "    rotate_game = ro(mat) #rotate clockwise\n",
    "    left_game, done = left(rotate_game) #apply left\n",
    "    game_final = ro(left_game, cw = False) #undo the rotation\n",
    "    return game_final, done\n",
    "\n",
    "def up(game):\n",
    "    \"\"\"\n",
    "    UC - L - C\n",
    "    \"\"\"\n",
    "    rotate_game = ro(mat, cw = False) #rotate anti-clockwise\n",
    "    left_game, done = left(rotate_game) #apply left\n",
    "    game_final = ro(left_game) #undo the rotation\n",
    "    return game_final, done\n",
    "\n",
    "def right(game):\n",
    "    \"\"\"\n",
    "    C - C - L - UC - UC\n",
    "    \"\"\"\n",
    "    rotate_game = ro(mat,cw=True, num =2) #double rotation\n",
    "    left_game, done = left(rotate_game) #apply left\n",
    "    game_final = ro(left_game, cw = False, num = 2) #undo the rotation\n",
    "    return game_final, done"
   ]
  },
  {
   "cell_type": "code",
   "execution_count": 403,
   "metadata": {},
   "outputs": [],
   "source": [
    "# Moviment 0\n",
    "GRID_LEN = 3\n",
    "\n",
    "mat = new_game(GRID_LEN)\n",
    "x = add_two(mat)\n",
    "x = add_two(mat)"
   ]
  },
  {
   "cell_type": "code",
   "execution_count": 338,
   "metadata": {},
   "outputs": [],
   "source": [
    "mat[1][3] = 3\n",
    "mat[1][1] = 2\n",
    "mat[1][4] = 3\n",
    "mat[1][5] = 4\n",
    "mat[3][1] = 5\n",
    "mat[3][4] = 5"
   ]
  },
  {
   "cell_type": "code",
   "execution_count": 386,
   "metadata": {},
   "outputs": [],
   "source": [
    "mat = [[0, 0, 1, 4], [0, 4, 0, 0], [0, 0, 0, 0], [0, 0, 0, 0]]"
   ]
  },
  {
   "cell_type": "code",
   "execution_count": 387,
   "metadata": {},
   "outputs": [
    {
     "data": {
      "text/plain": [
       "[0, 4, 0, 0]"
      ]
     },
     "execution_count": 387,
     "metadata": {},
     "output_type": "execute_result"
    }
   ],
   "source": [
    "max(mat)"
   ]
  },
  {
   "cell_type": "code",
   "execution_count": 391,
   "metadata": {},
   "outputs": [],
   "source": [
    "class TEST():\n",
    "    \n",
    "    def prova(n):\n",
    "        print(\"HOLA\")"
   ]
  },
  {
   "cell_type": "code",
   "execution_count": 398,
   "metadata": {},
   "outputs": [],
   "source": [
    "a = [\"test\", \"prova\"]"
   ]
  },
  {
   "cell_type": "code",
   "execution_count": 399,
   "metadata": {},
   "outputs": [],
   "source": [
    "MOVEMENTS = [\"Down\",\"Left\", \"Up\", \"Right\"]\n",
    "FUNS = [x.lower() for x in MOVEMENTS]"
   ]
  },
  {
   "cell_type": "code",
   "execution_count": 400,
   "metadata": {},
   "outputs": [
    {
     "data": {
      "text/plain": [
       "['down', 'left', 'up', 'right']"
      ]
     },
     "execution_count": 400,
     "metadata": {},
     "output_type": "execute_result"
    }
   ],
   "source": [
    "FUNS"
   ]
  },
  {
   "cell_type": "code",
   "execution_count": 393,
   "metadata": {},
   "outputs": [],
   "source": [
    "funcio = getattr(TEST, a[1])"
   ]
  },
  {
   "cell_type": "code",
   "execution_count": 405,
   "metadata": {},
   "outputs": [],
   "source": [
    "getattr?"
   ]
  },
  {
   "cell_type": "code",
   "execution_count": 404,
   "metadata": {},
   "outputs": [
    {
     "data": {
      "text/plain": [
       "([[4, 0, 0], [0, 0, 0], [0, 0, 0]], True)"
      ]
     },
     "execution_count": 404,
     "metadata": {},
     "output_type": "execute_result"
    }
   ],
   "source": [
    "left(mat)"
   ]
  },
  {
   "cell_type": "code",
   "execution_count": 357,
   "metadata": {},
   "outputs": [],
   "source": [
    "np.random.choice?"
   ]
  },
  {
   "cell_type": "code",
   "execution_count": 349,
   "metadata": {},
   "outputs": [
    {
     "data": {
      "text/plain": [
       "array([[0, 0, 0, 4],\n",
       "       [0, 0, 0, 0],\n",
       "       [0, 0, 0, 0],\n",
       "       [0, 0, 0, 0]])"
      ]
     },
     "execution_count": 349,
     "metadata": {},
     "output_type": "execute_result"
    }
   ],
   "source": [
    "viewmat(mat)"
   ]
  },
  {
   "cell_type": "code",
   "execution_count": 372,
   "metadata": {},
   "outputs": [
    {
     "data": {
      "text/plain": [
       "3"
      ]
     },
     "execution_count": 372,
     "metadata": {},
     "output_type": "execute_result"
    }
   ],
   "source": [
    "[1,2,3,4].pop(-2\n",
    "             )"
   ]
  },
  {
   "cell_type": "code",
   "execution_count": 340,
   "metadata": {},
   "outputs": [
    {
     "data": {
      "text/plain": [
       "array([[0, 2, 2, 3, 3, 4],\n",
       "       [0, 5, 0, 0, 5, 0],\n",
       "       [0, 0, 0, 0, 0, 0],\n",
       "       [0, 0, 0, 0, 0, 0],\n",
       "       [0, 0, 0, 0, 0, 0],\n",
       "       [0, 0, 0, 0, 0, 0]])"
      ]
     },
     "execution_count": 340,
     "metadata": {},
     "output_type": "execute_result"
    }
   ],
   "source": [
    "arrow_mat(up(mat))"
   ]
  },
  {
   "cell_type": "code",
   "execution_count": 341,
   "metadata": {},
   "outputs": [
    {
     "data": {
      "text/plain": [
       "array([[0, 0, 0, 0, 0, 0],\n",
       "       [0, 0, 0, 2, 6, 4],\n",
       "       [0, 0, 0, 0, 0, 0],\n",
       "       [0, 0, 0, 5, 2, 5],\n",
       "       [0, 0, 0, 0, 0, 0],\n",
       "       [0, 0, 0, 0, 0, 0]])"
      ]
     },
     "execution_count": 341,
     "metadata": {},
     "output_type": "execute_result"
    }
   ],
   "source": [
    "arrow_mat(right(mat))"
   ]
  },
  {
   "cell_type": "code",
   "execution_count": 342,
   "metadata": {},
   "outputs": [
    {
     "data": {
      "text/plain": [
       "array([[0, 0, 0, 0, 0, 0],\n",
       "       [0, 0, 0, 0, 0, 0],\n",
       "       [0, 0, 0, 0, 0, 0],\n",
       "       [0, 0, 0, 0, 0, 0],\n",
       "       [0, 2, 0, 0, 3, 0],\n",
       "       [0, 5, 2, 3, 5, 4]])"
      ]
     },
     "execution_count": 342,
     "metadata": {},
     "output_type": "execute_result"
    }
   ],
   "source": [
    "arrow_mat(down(mat))"
   ]
  },
  {
   "cell_type": "code",
   "execution_count": null,
   "metadata": {},
   "outputs": [],
   "source": []
  }
 ],
 "metadata": {
  "kernelspec": {
   "display_name": "Python 3",
   "language": "python",
   "name": "python3"
  },
  "language_info": {
   "codemirror_mode": {
    "name": "ipython",
    "version": 3
   },
   "file_extension": ".py",
   "mimetype": "text/x-python",
   "name": "python",
   "nbconvert_exporter": "python",
   "pygments_lexer": "ipython3",
   "version": "3.7.3"
  }
 },
 "nbformat": 4,
 "nbformat_minor": 2
}
