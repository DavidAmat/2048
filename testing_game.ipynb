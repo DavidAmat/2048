{
 "cells": [
  {
   "cell_type": "code",
   "execution_count": 1,
   "metadata": {},
   "outputs": [],
   "source": [
    "import random\n",
    "from tkinter import Frame, Label, CENTER\n",
    "\n",
    "# Importamos codigos .py\n",
    "import logic\n",
    "import constants as c\n",
    "\n",
    "\n",
    "class GameGrid(Frame):\n",
    "    def __init__(self):\n",
    "        Frame.__init__(self)\n",
    "\n",
    "        self.grid()\n",
    "        self.master.title('2048')\n",
    "        self.master.bind(\"<Key>\", self.key_down)\n",
    "\n",
    "        # self.gamelogic = gamelogic\n",
    "        self.commands = {c.KEY_UP: logic.up, c.KEY_DOWN: logic.down,\n",
    "                         c.KEY_LEFT: logic.left, c.KEY_RIGHT: logic.right,\n",
    "                         c.KEY_UP_ALT: logic.up, c.KEY_DOWN_ALT: logic.down,\n",
    "                         c.KEY_LEFT_ALT: logic.left,\n",
    "                         c.KEY_RIGHT_ALT: logic.right}\n",
    "\n",
    "        self.grid_cells = []\n",
    "        self.init_grid()\n",
    "        self.init_matrix()\n",
    "        self.update_grid_cells()\n",
    "\n",
    "        self.mainloop()\n",
    "\n",
    "    def init_grid(self):\n",
    "        background = Frame(self, bg=c.BACKGROUND_COLOR_GAME,\n",
    "                           width=c.SIZE, height=c.SIZE)\n",
    "        background.grid()\n",
    "\n",
    "        for i in range(c.GRID_LEN):\n",
    "            grid_row = []\n",
    "            for j in range(c.GRID_LEN):\n",
    "                cell = Frame(background, bg=c.BACKGROUND_COLOR_CELL_EMPTY,\n",
    "                             width=c.SIZE / c.GRID_LEN,\n",
    "                             height=c.SIZE / c.GRID_LEN)\n",
    "                cell.grid(row=i, column=j, padx=c.GRID_PADDING,\n",
    "                          pady=c.GRID_PADDING)\n",
    "                t = Label(master=cell, text=\"\",\n",
    "                          bg=c.BACKGROUND_COLOR_CELL_EMPTY,\n",
    "                          justify=CENTER, font=c.FONT, width=5, height=2)\n",
    "                t.grid()\n",
    "                grid_row.append(t)\n",
    "\n",
    "            self.grid_cells.append(grid_row)\n",
    "\n",
    "    def gen(self):\n",
    "        return random.randint(0, c.GRID_LEN - 1)\n",
    "\n",
    "    def init_matrix(self):\n",
    "        self.matrix = logic.new_game(4)\n",
    "        self.history_matrixs = list()\n",
    "        self.matrix = logic.add_two(self.matrix)\n",
    "        self.matrix = logic.add_two(self.matrix)\n",
    "\n",
    "    def update_grid_cells(self):\n",
    "        for i in range(c.GRID_LEN):\n",
    "            for j in range(c.GRID_LEN):\n",
    "                new_number = self.matrix[i][j]\n",
    "                if new_number == 0:\n",
    "                    self.grid_cells[i][j].configure(\n",
    "                        text=\"\", bg=c.BACKGROUND_COLOR_CELL_EMPTY)\n",
    "                else:\n",
    "                    self.grid_cells[i][j].configure(text=str(\n",
    "                        new_number), bg=c.BACKGROUND_COLOR_DICT[new_number],\n",
    "                        fg=c.CELL_COLOR_DICT[new_number])\n",
    "        self.update_idletasks()\n",
    "\n",
    "    def key_down(self, event):\n",
    "        key = repr(event.char)\n",
    "        if key == c.KEY_BACK and len(self.history_matrixs) > 1:\n",
    "            self.matrix = self.history_matrixs.pop()\n",
    "            self.update_grid_cells()\n",
    "            print('back on step total step:', len(self.history_matrixs))\n",
    "        elif key in self.commands:\n",
    "            self.matrix, done = self.commands[repr(event.char)](self.matrix)\n",
    "            if done:\n",
    "                self.matrix = logic.add_two(self.matrix)\n",
    "                # record last move\n",
    "                self.history_matrixs.append(self.matrix)\n",
    "                self.update_grid_cells()\n",
    "                done = False\n",
    "                if logic.game_state(self.matrix) == 'win':\n",
    "                    self.grid_cells[1][1].configure(\n",
    "                        text=\"You\", bg=c.BACKGROUND_COLOR_CELL_EMPTY)\n",
    "                    self.grid_cells[1][2].configure(\n",
    "                        text=\"Win!\", bg=c.BACKGROUND_COLOR_CELL_EMPTY)\n",
    "                if logic.game_state(self.matrix) == 'lose':\n",
    "                    self.grid_cells[1][1].configure(\n",
    "                        text=\"You\", bg=c.BACKGROUND_COLOR_CELL_EMPTY)\n",
    "                    self.grid_cells[1][2].configure(\n",
    "                        text=\"Lose!\", bg=c.BACKGROUND_COLOR_CELL_EMPTY)\n",
    "\n",
    "    def generate_next(self):\n",
    "        index = (self.gen(), self.gen())\n",
    "        while self.matrix[index[0]][index[1]] != 0:\n",
    "            index = (self.gen(), self.gen())\n",
    "        self.matrix[index[0]][index[1]] = 2\n",
    "\n",
    "\n"
   ]
  },
  {
   "cell_type": "code",
   "execution_count": 2,
   "metadata": {},
   "outputs": [],
   "source": [
    "gamegrid = GameGrid()"
   ]
  },
  {
   "cell_type": "code",
   "execution_count": 1,
   "metadata": {},
   "outputs": [],
   "source": [
    "import sys"
   ]
  },
  {
   "cell_type": "code",
   "execution_count": 3,
   "metadata": {},
   "outputs": [
    {
     "data": {
      "text/plain": [
       "'C:\\\\Users\\\\David\\\\Anaconda3\\\\python.exe'"
      ]
     },
     "execution_count": 3,
     "metadata": {},
     "output_type": "execute_result"
    }
   ],
   "source": [
    "sys.executable"
   ]
  },
  {
   "cell_type": "code",
   "execution_count": 4,
   "metadata": {},
   "outputs": [],
   "source": [
    "import random\n",
    "from collections import Counter"
   ]
  },
  {
   "cell_type": "code",
   "execution_count": 5,
   "metadata": {},
   "outputs": [
    {
     "data": {
      "text/plain": [
       "Counter({2: 19, 4: 11, 0: 25, 1: 23, 3: 22})"
      ]
     },
     "execution_count": 5,
     "metadata": {},
     "output_type": "execute_result"
    }
   ],
   "source": [
    "Counter([random.randint(0, 4) for _ in range(100)])"
   ]
  },
  {
   "cell_type": "code",
   "execution_count": 6,
   "metadata": {},
   "outputs": [],
   "source": [
    "def new_game(n):\n",
    "    matrix = []\n",
    "\n",
    "    for i in range(n):\n",
    "        matrix.append([0] * n)\n",
    "    return matrix"
   ]
  },
  {
   "cell_type": "code",
   "execution_count": 8,
   "metadata": {},
   "outputs": [],
   "source": [
    "mat = new_game(4)"
   ]
  },
  {
   "cell_type": "code",
   "execution_count": 9,
   "metadata": {},
   "outputs": [],
   "source": [
    "def add_two(mat):\n",
    "    a = random.randint(0, len(mat)-1)\n",
    "    b = random.randint(0, len(mat)-1)\n",
    "    while(mat[a][b] != 0):\n",
    "        a = random.randint(0, len(mat)-1)\n",
    "        b = random.randint(0, len(mat)-1)\n",
    "    mat[a][b] = 2\n",
    "    return mat"
   ]
  },
  {
   "cell_type": "code",
   "execution_count": 11,
   "metadata": {},
   "outputs": [],
   "source": [
    "x = add_two(mat)"
   ]
  },
  {
   "cell_type": "code",
   "execution_count": 14,
   "metadata": {},
   "outputs": [
    {
     "data": {
      "text/plain": [
       "0"
      ]
     },
     "execution_count": 14,
     "metadata": {},
     "output_type": "execute_result"
    }
   ],
   "source": [
    "x[1][1]"
   ]
  },
  {
   "cell_type": "code",
   "execution_count": 17,
   "metadata": {},
   "outputs": [],
   "source": [
    "import tkinter as tk\n",
    "import time\n",
    "\n",
    "top = tk.Tk()\n",
    "\n",
    "def addText():\n",
    "    # make first change\n",
    "    oldText = L.cget(\"text\")\n",
    "    newText = oldText + '\\nfirst change'\n",
    "    L.configure(text=newText)\n",
    "\n",
    "    # wait 2 seconds\n",
    "    top.update_idletasks()\n",
    "    time.sleep(2)\n",
    "\n",
    "    # make second change\n",
    "    newText += '\\nsecond change'\n",
    "    L.configure(text=newText)\n",
    "\n",
    "B = tk.Button(top, text =\"Change text\", command = addText)\n",
    "L = tk.Label(top,text='orignal text')\n",
    "\n",
    "B.pack()\n",
    "L.pack()\n",
    "top.mainloop()"
   ]
  },
  {
   "cell_type": "code",
   "execution_count": 18,
   "metadata": {},
   "outputs": [],
   "source": [
    "time.sleep(5)"
   ]
  },
  {
   "cell_type": "code",
   "execution_count": null,
   "metadata": {},
   "outputs": [],
   "source": []
  }
 ],
 "metadata": {
  "kernelspec": {
   "display_name": "Python 3",
   "language": "python",
   "name": "python3"
  },
  "language_info": {
   "codemirror_mode": {
    "name": "ipython",
    "version": 3
   },
   "file_extension": ".py",
   "mimetype": "text/x-python",
   "name": "python",
   "nbconvert_exporter": "python",
   "pygments_lexer": "ipython3",
   "version": "3.7.3"
  }
 },
 "nbformat": 4,
 "nbformat_minor": 2
}
