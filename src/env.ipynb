{
 "cells": [
  {
   "cell_type": "code",
   "execution_count": 200,
   "metadata": {},
   "outputs": [],
   "source": [
    "import os\n",
    "import numpy as np\n",
    "import random\n",
    "import copy\n",
    "from collections import defaultdict, namedtuple\n",
    "os.chdir(\"/Users/davidamat/Documents/projects/2048/\")"
   ]
  },
  {
   "cell_type": "code",
   "execution_count": 3,
   "metadata": {},
   "outputs": [],
   "source": [
    "import torch\n",
    "import torch.nn as nn\n",
    "import torch.nn.functional as F\n",
    "import torch.optim as optim"
   ]
  },
  {
   "cell_type": "code",
   "execution_count": 7,
   "metadata": {},
   "outputs": [],
   "source": [
    "import matplotlib.pyplot as plt"
   ]
  },
  {
   "cell_type": "code",
   "execution_count": 8,
   "metadata": {},
   "outputs": [
    {
     "data": {
      "text/plain": [
       "['/Users/davidamat/Documents/projects/2048/src',\n",
       " '/Users/davidamat/Documents/projects/2048/src',\n",
       " '/Users/davidamat/Documents/Glovo/missing-items-pipeline',\n",
       " '/Users/davidamat/opt/anaconda3/lib/python38.zip',\n",
       " '/Users/davidamat/opt/anaconda3/lib/python3.8',\n",
       " '/Users/davidamat/opt/anaconda3/lib/python3.8/lib-dynload',\n",
       " '',\n",
       " '/Users/davidamat/.local/share/virtualenvs/2048-TNu5m-4D/lib/python3.8/site-packages',\n",
       " '/Users/davidamat/.local/share/virtualenvs/2048-TNu5m-4D/lib/python3.8/site-packages/IPython/extensions',\n",
       " '/Users/davidamat/.ipython']"
      ]
     },
     "execution_count": 8,
     "metadata": {},
     "output_type": "execute_result"
    }
   ],
   "source": [
    "import sys\n",
    "\n",
    "sys.path"
   ]
  },
  {
   "cell_type": "code",
   "execution_count": 9,
   "metadata": {},
   "outputs": [],
   "source": [
    "from common import constants as c"
   ]
  },
  {
   "cell_type": "code",
   "execution_count": 169,
   "metadata": {},
   "outputs": [],
   "source": [
    "class Movements():\n",
    "    \n",
    "    @staticmethod\n",
    "    def displacement_numbers(mat):\n",
    "        \"\"\"\n",
    "        Desplaza todos los numeros a la izquierda de la matriz\n",
    "        \"\"\"\n",
    "        \n",
    "        new = np.zeros(mat.shape) # crea una matrix de 0 de AxA (donde A es la c.GRID_LEN)\n",
    "        done = False\n",
    "        for i in range(c.GRID_LEN):\n",
    "            count = 0\n",
    "            for j in range(c.GRID_LEN):\n",
    "                # Si en esa fila hay un elemento no nulo\n",
    "                if mat[i][j] != 0:\n",
    "                    # Pone ese elemento en la posicion count (columna), donde esta vendra determinada por si\n",
    "                    # en esa fila, previamente, hemos encotrado algun otro elemento NO nulo\n",
    "                    new[i][count] = mat[i][j]\n",
    "\n",
    "                    # Solo con que modifiquemos la posicion de una de los numeros, ya contara como un movimiento: done = True\n",
    "                    if j != count:\n",
    "                        done = True\n",
    "\n",
    "                    # Suma al count una posicion ya que ya se ha movido a la izquerda de todo (columna 0) ese elemento\n",
    "                    count += 1\n",
    "        return (new, done)\n",
    "    \n",
    "    @staticmethod\n",
    "    def merge_numbers(mat, game_score = 0):\n",
    "        \"\"\"\n",
    "        Suma los números de cada fila que sean iguales \n",
    "        y consecutivos, dejando el segundo sumando a 0\n",
    "        \"\"\"\n",
    "        done = False\n",
    "        for i in range(c.GRID_LEN):\n",
    "            for j in range(c.GRID_LEN-1): # la ultima columna j, no tiene una columna a su derecha (j+1)\n",
    "                celda = mat[i][j]\n",
    "                celda_derecha = mat[i][j+1]\n",
    "                if celda == celda_derecha and celda != 0: # si son iguales, y esta igualdad son numeros > 0, se suman\n",
    "                    merge_val = celda + celda_derecha\n",
    "                    mat[i][j] = merge_val\n",
    "                    game_score += merge_val #suma los puntos\n",
    "                    mat[i][j+1] = 0 # se deja la de la derecha vacía, esto hace que se necesite hacer otro displacement para llenar ese hueco\n",
    "                    # esto tambien hace que al leer la siguiente columna, se lea un 0, y no el numero que estaba\n",
    "                    done = True\n",
    "        return (mat, done, game_score)\n",
    "    \n",
    "    @staticmethod\n",
    "    def perform_movement(game, game_score):\n",
    "        \"\"\"\n",
    "        1 - mover al maximo a la izquierda todos los numeros\n",
    "        2 - Sumamos los iguales dejando 0 en el segundo sumando\n",
    "        3 - Por seguridad, por si hemos dejado alguno sin desplazar a la izquierda (huecos generados por el merge),\n",
    "            se vuelve a aplicar sin importar el done o no (no importa si mueve a alguien o no ahora)\n",
    "        \"\"\"\n",
    "        game_disp, done_disp = Movements.displacement_numbers(game)\n",
    "        game_merged, done_merge, game_score = Movements.merge_numbers(game_disp, game_score)\n",
    "        game_final = Movements.displacement_numbers(game_merged)[0]\n",
    "        return (game_final, done_disp or done_merge, game_score)\n",
    "    \n",
    "    @staticmethod\n",
    "    def ro(mat, cw = True, num = 1): #cw: clockwise: True or False, #num: number of rotations\n",
    "        \"\"\"\n",
    "        Rota 90º las matrices para que las operaciones UP, DOWN y RIGHT se puedan hacer con la de LEFT\n",
    "        \"\"\"\n",
    "        param_clockise = (1,0) if cw else (0,1) #clockwise or counter-clockwise (see help(np.rot90))\n",
    "\n",
    "        # Cuantas rotaciones hacemos\n",
    "        rot_mat = mat\n",
    "        for _ in range(num):\n",
    "            rot_mat = np.rot90(np.array(rot_mat), axes = param_clockise)\n",
    "\n",
    "        return rot_mat\n",
    "\n",
    "    @staticmethod\n",
    "    def left(game, game_score = 0):\n",
    "        return Movements.perform_movement(game, game_score)\n",
    "    \n",
    "    @staticmethod\n",
    "    def down(game, game_score = 0):\n",
    "        \"\"\"\n",
    "        C - L - UC\n",
    "        \"\"\"\n",
    "        rotate_game = Movements.ro(game) #rotate clockwise\n",
    "        left_game, done, game_score = Movements.left(rotate_game, game_score) #apply left\n",
    "        game_final = Movements.ro(left_game, cw = False) #undo the rotation\n",
    "        return game_final, done, game_score\n",
    "    \n",
    "    @staticmethod\n",
    "    def up(game, game_score = 0):\n",
    "        \"\"\"\n",
    "        UC - L - C\n",
    "        \"\"\"\n",
    "        rotate_game = Movements.ro(game, cw = False) #rotate anti-clockwise\n",
    "        left_game, done, game_score = Movements.left(rotate_game, game_score) #apply left\n",
    "        game_final = Movements.ro(left_game) #undo the rotation\n",
    "        return game_final, done, game_score\n",
    "\n",
    "    @staticmethod\n",
    "    def right(game, game_score = 0):\n",
    "        \"\"\"\n",
    "        C - C - L - UC - UC\n",
    "        \"\"\"\n",
    "        rotate_game = Movements.ro(game,cw=True, num =2) #double rotation\n",
    "        left_game, done, game_score = Movements.left(rotate_game, game_score) #apply left\n",
    "        game_final = Movements.ro(left_game, cw = False, num = 2) #undo the rotation\n",
    "        return game_final, done, game_score\n",
    "\n",
    "    "
   ]
  },
  {
   "cell_type": "code",
   "execution_count": 170,
   "metadata": {},
   "outputs": [],
   "source": [
    "class Env():\n",
    "    \n",
    "    def __init__(self, grid_size):\n",
    "        \"\"\"\n",
    "        grid_size: size of the matrix\n",
    "        \"\"\"\n",
    "        # Status\n",
    "        self.game_stat = -2 # 0: playing, 1: win, -1: lost, -2: ready to start\n",
    "        \n",
    "        # Actions\n",
    "        self.actions = {0: Movements.up, \n",
    "                        1: Movements.down, \n",
    "                        2: Movements.left, \n",
    "                        3: Movements.right}\n",
    "        \n",
    "        # Log in a list all the matrices in each step\n",
    "        self.log = defaultdict(list)\n",
    "        \n",
    "        # Initialize matrix\n",
    "        self._init_matrix(grid_size)\n",
    "        \n",
    "        # Score accumulated\n",
    "        self.game_score = 0\n",
    "    \n",
    "        \n",
    "    def _init_matrix(self, n):\n",
    "        \"\"\"\n",
    "        Initializes the game matrix\n",
    "        \"\"\"\n",
    "        self.matrix = np.zeros((n,n))\n",
    "        self._add_two(times = 2)\n",
    "        \n",
    "        # Log\n",
    "        self.log[\"mat\"].append(self.matrix)\n",
    "        self.log[\"action\"].append(-1) # randomly added action\n",
    "        self.log[\"reward\"].append(0)\n",
    "        \n",
    "    def _add_two(self, times,  choices = c.RANDOM_NUMBER_CHOICES, probs_choices = c.PROBAB_NUMBER_CHOICES):\n",
    "        \"\"\"\n",
    "        Add to the matrix randomly a 2 and 4\n",
    "        \"\"\"\n",
    "        for _ in range(times):\n",
    "            # choose only cells with a 0\n",
    "            avail_cells = list(zip(*np.where(self.matrix==0)))\n",
    "            \n",
    "            # Choose the new index of the matrix\n",
    "            index_sample = random.sample(avail_cells, 1)[0]\n",
    "            \n",
    "            # Start the game always with a 2\n",
    "            if self.game_stat == -2:\n",
    "                self.matrix[index_sample] = 2\n",
    "                \n",
    "                # Change the stat to playing\n",
    "                self.game_stat = 0\n",
    "            \n",
    "            elif len(avail_cells):\n",
    "                # Choose randomly between a 2 or a 4 and put it in the matrix\n",
    "                value_sample = np.random.choice(choices, p = probs_choices)\n",
    "                self.matrix[index_sample] = value_sample\n",
    "            else:\n",
    "                sys.exit(\"Finished game!\")\n",
    "                \n",
    "    def _check_possible_action(self):\n",
    "        \"\"\"\n",
    "         # Check if there is any possible action to take\n",
    "         without modifying the env matrix\n",
    "        \"\"\"\n",
    "        any_action_available = False\n",
    "        test_matrix = copy.copy(self.matrix)\n",
    "        for a_id in self.actions:\n",
    "            _, action_available, _ = self.actions[a_id](test_matrix, 0)\n",
    "            any_action_available |= action_available\n",
    "        return any_action_available\n",
    "        \n",
    "        \n",
    "                \n",
    "    def _game_stat(self):\n",
    "        \"\"\"\n",
    "        Status of the game:\n",
    "        1: game won\n",
    "        -1: game lost\n",
    "        0: game in play\n",
    "        \"\"\"            \n",
    "        if self.matrix.min() == 0:\n",
    "            if self.matrix.max() >= c.OBJECTIVE:\n",
    "                self.game_stat = 1\n",
    "            else:\n",
    "                self.game_stat = 0\n",
    "        else:\n",
    "            if self._check_possible_action():\n",
    "                self.game_stat = 0\n",
    "            else:\n",
    "                self.game_stat = -1\n",
    "                \n",
    "        \n",
    "                \n",
    "    # Play step\n",
    "    def step(self, action_id):\n",
    "        \"\"\"\n",
    "        Returns:\n",
    "        - start matrix\n",
    "        - final matrix\n",
    "        - has_moved: if the action taken has lead to a movement (True) or not (False)\n",
    "        - reward\n",
    "        - game stat\n",
    "        \"\"\"\n",
    "        \n",
    "        # Take the action\n",
    "        start_matrix = copy.copy(self.matrix)\n",
    "        self.matrix, done, reward = self.actions[action_id](self.matrix)\n",
    "        self.game_score += reward\n",
    "        \n",
    "        # Log\n",
    "        self.log[\"mat\"].append(self.matrix)\n",
    "        self.log[\"action\"].append(action_id)\n",
    "        self.log[\"reward\"].append(reward)\n",
    "        \n",
    "        # If the movement could be done\n",
    "        if done: \n",
    "            # Add randomly the next number in the matrix\n",
    "            self._add_two(times = 1)\n",
    "            \n",
    "            # Log\n",
    "            self.log[\"mat\"].append(self.matrix)\n",
    "            self.log[\"action\"].append(-1) #action -1 is a randomly added number\n",
    "            self.log[\"reward\"].append(0)\n",
    "            \n",
    "            # Check game status if a further action is possible\n",
    "            self._game_stat()\n",
    "        \n",
    "        # If the movement performed didn't change anything keep playing\n",
    "        return start_matrix, self.matrix, done, reward, self.game_stat\n",
    "    \n",
    "    # Reset\n",
    "    def reset(self):\n",
    "        self.__init__(self.matrix.shape[0])"
   ]
  },
  {
   "cell_type": "code",
   "execution_count": 171,
   "metadata": {},
   "outputs": [],
   "source": [
    "class Player():\n",
    "    \n",
    "    def __init__(self, env):\n",
    "        self.env = env\n",
    "        self.steps = 0\n",
    "        self.game_stat = 0\n",
    "        self.log = defaultdict(list)\n",
    "    \n",
    "    def play_random(self):\n",
    "        \n",
    "        while self.game_stat == 0:\n",
    "            self.steps += 1\n",
    "            \n",
    "            # action random\n",
    "            action_pl = np.random.choice(list(self.env.actions.keys()))\n",
    "            \n",
    "            #choose a random action\n",
    "            start_matrix, end_matrix, done, reward, self.game_stat = self.env.step(action_pl)\n",
    "            \n",
    "            # log\n",
    "            self.log[\"mat_o\"].append(start_matrix)\n",
    "            self.log[\"action\"].append(action_pl)\n",
    "            self.log[\"reward\"].append(reward)\n",
    "            self.log[\"mat_f\"].append(end_matrix)\n",
    "            self.log[\"done\"].append(done)\n",
    "            self.log[\"game_stat\"].append(self.game_stat)"
   ]
  },
  {
   "cell_type": "code",
   "execution_count": 302,
   "metadata": {},
   "outputs": [],
   "source": [
    "class Model(nn.Module):\n",
    "    def __init__(self, input_size, n_actions):\n",
    "        super(Model, self).__init__()\n",
    "\n",
    "        self.net = nn.Sequential(\n",
    "            nn.Linear(input_size, 128),\n",
    "            nn.ReLU(),\n",
    "            nn.Linear(128, n_actions)\n",
    "        )\n",
    "        \n",
    "        self.apply(self._init_weights)\n",
    "\n",
    "    def forward(self, x):\n",
    "        \"\"\"\n",
    "        Assumes x is the input matrix of the board\n",
    "        \"\"\"\n",
    "        return self.net(x)\n",
    "    \n",
    "    def _init_weights(self, m):\n",
    "        \"\"\"\n",
    "        Initializes all weights and biases to the same quantity\n",
    "        to avoid initially getting stucked into a action value\n",
    "        when the network is just exploring and taking the same step\n",
    "        which may lead the matrix in the same corner without moving\n",
    "        until another action is sampled.\n",
    "        \"\"\"\n",
    "        if type(m) == nn.Linear:\n",
    "            torch.nn.init.xavier_uniform_(m.weight)\n",
    "            m.bias.data.fill_(0.4)"
   ]
  },
  {
   "cell_type": "code",
   "execution_count": 357,
   "metadata": {},
   "outputs": [],
   "source": [
    "class PolicyAgent():\n",
    "    \"\"\"\n",
    "    Policy agent gets action probabilities from the model and samples actions from it\n",
    "    \"\"\"\n",
    "    # TODO: unify code with DQNAgent, as only action selector is differs.\n",
    "    def __init__(self, model, device=\"cpu\"):\n",
    "        self.model = model\n",
    "        self.device = device        \n",
    "        \n",
    "    def preprocess(self, state):\n",
    "        return torch.tensor(state.ravel(), dtype = torch.float)\n",
    "    \n",
    "    def action_selector(self, probs, epsilon = 0):\n",
    "        \"\"\"\n",
    "        :param epsilon: probability to switch from a random chosen action and the policy-based action\n",
    "        \"\"\"\n",
    "        assert isinstance(probs, np.ndarray)\n",
    "        if (epsilon > 0) & (np.random.rand() < epsilon):\n",
    "            # take a random choice\n",
    "            return np.random.choice(probs.shape[0]) \n",
    "        else:\n",
    "            return np.random.choice(probs.shape[0], p=probs)\n",
    "\n",
    "    \n",
    "    @torch.no_grad()\n",
    "    def __call__(self, state):\n",
    "        \"\"\"\n",
    "        Return actions from given a state\n",
    "        :param states: list of states\n",
    "        :return: list of actions\n",
    "        \"\"\"\n",
    "        state = self.preprocess(state).to(self.device)\n",
    "        probs = F.softmax(self.model(state) ,dim=0).data.cpu().numpy()\n",
    "        return self.action_selector(probs)"
   ]
  },
  {
   "cell_type": "code",
   "execution_count": 304,
   "metadata": {},
   "outputs": [],
   "source": [
    "c.GRID_LEN = 4\n",
    "c.OBJECTIVE = 256\n",
    "\n",
    "#env = Env(c.GRID_LEN)\n",
    "#pl = Player(env)\n",
    "#pl.play_random()\n",
    "\n",
    "env = Env(c.GRID_LEN)\n",
    "model = Model(c.GRID_LEN**2, len(env.actions))\n",
    "agent = PolicyAgent(model = model)"
   ]
  },
  {
   "cell_type": "code",
   "execution_count": 359,
   "metadata": {},
   "outputs": [],
   "source": [
    "class EpsilonPolicy():\n",
    "    \"\"\"\n",
    "    Sets a decayment policy of the epsilon for the \n",
    "    agent to ignore the policy-based action\n",
    "    and perform a random action instead\n",
    "    \"\"\"\n",
    "    \n",
    "    def __init__(self, eps_start, eps_decay, eps_final):\n",
    "        self.eps_start = eps_start\n",
    "        self.eps_final = eps_final\n",
    "        self.eps_decay = eps_decay\n",
    "    \n",
    "    def get_epsilon(step):\n",
    "        self.epsilon = max(self.eps_final, self.eps_start  - step / self.eps_decay)"
   ]
  },
  {
   "cell_type": "code",
   "execution_count": 305,
   "metadata": {},
   "outputs": [],
   "source": [
    "ExperienceEpisode= namedtuple('ExperienceEpisode', ('state', 'action', 'done', 'reward',  'game_stat'))\n",
    "\n",
    "class ExperienceSource():\n",
    "    \"\"\"\n",
    "    Helps in the REINFORCE algorithm providing\n",
    "    - A continuous source of steps for 1 single episode until the buffer gets reset\n",
    "    - Inputs:\n",
    "        - env:\n",
    "        - agent: performs actions based on a policy (REINFORCE -> on-policy)\n",
    "        - epsilon: at the starting steps, vary between epsilon-greedy and policy based\n",
    "    Returns:\n",
    "        - reward: for each step \n",
    "        - state: state for each step in the episode\n",
    "        - action: action decided by the agent to be taken at each step\n",
    "    \n",
    "    \"\"\"\n",
    "    def __init__(self, env, agent, epsilon):\n",
    "        self.env = env\n",
    "        self.agent = agent\n",
    "        self.history = [] # history of ExperienceSource instances for 1 entire episode\n",
    "        self.env.reset()\n",
    "\n",
    "    def populate_episode(self):\n",
    "        \n",
    "        # Play until the episode finishes\n",
    "        game_stat = 0\n",
    "        while game_stat == 0:\n",
    "            # use the agent's policy to choose next action\n",
    "            action_id = self.agent(self.env.matrix)\n",
    "            \n",
    "            start_matrix, end_matrix, done, reward, game_stat = self.env.step(action_id)\n",
    "                \n",
    "            # fill the history of steps\n",
    "            self.history.append(ExperienceEpisode(state=start_matrix, action=action_id, done = done, reward=reward, game_stat=game_stat))\n",
    "            \n",
    "    def reset(self):\n",
    "        self.env.reset()\n",
    "        self.history = []"
   ]
  },
  {
   "cell_type": "code",
   "execution_count": 306,
   "metadata": {},
   "outputs": [],
   "source": [
    "env = Env(c.GRID_LEN)\n",
    "model = Model(c.GRID_LEN**2, len(env.actions))\n",
    "eps = EpsilonPolicy(eps_start=1, eps_final=0.3, eps_dec)\n",
    "agent = PolicyAgent(model = model)\n",
    "exp = ExperienceSource(env, agent)"
   ]
  },
  {
   "cell_type": "code",
   "execution_count": 307,
   "metadata": {},
   "outputs": [
    {
     "name": "stdout",
     "output_type": "stream",
     "text": [
      "CPU times: user 12.4 s, sys: 29.3 ms, total: 12.4 s\n",
      "Wall time: 12.4 s\n"
     ]
    }
   ],
   "source": [
    "%%time\n",
    "exp.populate_episode()"
   ]
  },
  {
   "cell_type": "code",
   "execution_count": 309,
   "metadata": {},
   "outputs": [],
   "source": [
    "actions = [ss.action for ss in exp.history]"
   ]
  },
  {
   "cell_type": "code",
   "execution_count": 314,
   "metadata": {},
   "outputs": [
    {
     "data": {
      "text/plain": [
       "[<matplotlib.lines.Line2D at 0x7f9281c0cac0>]"
      ]
     },
     "execution_count": 314,
     "metadata": {},
     "output_type": "execute_result"
    },
    {
     "data": {
      "image/png": "[encoded data removed]",
      "text/plain": [
       "<Figure size 432x288 with 1 Axes>"
      ]
     },
     "metadata": {
      "needs_background": "light"
     },
     "output_type": "display_data"
    }
   ],
   "source": [
    "plt.plot(actions[:100])"
   ]
  },
  {
   "cell_type": "code",
   "execution_count": 315,
   "metadata": {},
   "outputs": [
    {
     "data": {
      "text/plain": [
       "[ExperienceEpisode(state=array([[ 0.,  0.,  4.,  0.],\n",
       "        [ 8.,  2.,  2.,  4.],\n",
       "        [16.,  8.,  4.,  8.],\n",
       "        [ 2.,  2., 16.,  4.]]), action=0, done=True, reward=0, game_stat=0),\n",
       " ExperienceEpisode(state=array([[ 8.,  2.,  4.,  4.],\n",
       "        [16.,  8.,  2.,  8.],\n",
       "        [ 2.,  2.,  4.,  4.],\n",
       "        [ 0.,  0., 16.,  2.]]), action=3, done=True, reward=20.0, game_stat=0),\n",
       " ExperienceEpisode(state=array([[ 0.,  8.,  2.,  8.],\n",
       "        [16.,  8.,  2.,  8.],\n",
       "        [ 4.,  0.,  4.,  8.],\n",
       "        [ 0.,  0., 16.,  2.]]), action=0, done=True, reward=36.0, game_stat=0),\n",
       " ExperienceEpisode(state=array([[16., 16.,  4., 16.],\n",
       "        [ 4.,  0.,  4.,  8.],\n",
       "        [ 0.,  0., 16.,  2.],\n",
       "        [ 0.,  4.,  0.,  0.]]), action=1, done=True, reward=8.0, game_stat=0),\n",
       " ExperienceEpisode(state=array([[ 0.,  0.,  0.,  0.],\n",
       "        [ 0.,  0.,  4., 16.],\n",
       "        [16., 16.,  8.,  8.],\n",
       "        [ 4.,  4., 16.,  2.]]), action=3, done=True, reward=56.0, game_stat=0),\n",
       " ExperienceEpisode(state=array([[ 2.,  0.,  0.,  0.],\n",
       "        [ 0.,  0.,  4., 16.],\n",
       "        [ 0.,  0., 32., 16.],\n",
       "        [ 0.,  8., 16.,  2.]]), action=1, done=True, reward=32.0, game_stat=0),\n",
       " ExperienceEpisode(state=array([[ 0.,  0.,  0.,  0.],\n",
       "        [ 0.,  0.,  4.,  4.],\n",
       "        [ 0.,  0., 32., 32.],\n",
       "        [ 2.,  8., 16.,  2.]]), action=1, done=False, reward=0, game_stat=0),\n",
       " ExperienceEpisode(state=array([[ 0.,  0.,  0.,  0.],\n",
       "        [ 0.,  0.,  4.,  4.],\n",
       "        [ 0.,  0., 32., 32.],\n",
       "        [ 2.,  8., 16.,  2.]]), action=1, done=False, reward=0, game_stat=0),\n",
       " ExperienceEpisode(state=array([[ 0.,  0.,  0.,  0.],\n",
       "        [ 0.,  0.,  4.,  4.],\n",
       "        [ 0.,  0., 32., 32.],\n",
       "        [ 2.,  8., 16.,  2.]]), action=1, done=False, reward=0, game_stat=0),\n",
       " ExperienceEpisode(state=array([[ 0.,  0.,  0.,  0.],\n",
       "        [ 0.,  0.,  4.,  4.],\n",
       "        [ 0.,  0., 32., 32.],\n",
       "        [ 2.,  8., 16.,  2.]]), action=1, done=False, reward=0, game_stat=0),\n",
       " ExperienceEpisode(state=array([[ 0.,  0.,  0.,  0.],\n",
       "        [ 0.,  0.,  4.,  4.],\n",
       "        [ 0.,  0., 32., 32.],\n",
       "        [ 2.,  8., 16.,  2.]]), action=1, done=False, reward=0, game_stat=0),\n",
       " ExperienceEpisode(state=array([[ 0.,  0.,  0.,  0.],\n",
       "        [ 0.,  0.,  4.,  4.],\n",
       "        [ 0.,  0., 32., 32.],\n",
       "        [ 2.,  8., 16.,  2.]]), action=1, done=False, reward=0, game_stat=0),\n",
       " ExperienceEpisode(state=array([[ 0.,  0.,  0.,  0.],\n",
       "        [ 0.,  0.,  4.,  4.],\n",
       "        [ 0.,  0., 32., 32.],\n",
       "        [ 2.,  8., 16.,  2.]]), action=1, done=False, reward=0, game_stat=0),\n",
       " ExperienceEpisode(state=array([[ 0.,  0.,  0.,  0.],\n",
       "        [ 0.,  0.,  4.,  4.],\n",
       "        [ 0.,  0., 32., 32.],\n",
       "        [ 2.,  8., 16.,  2.]]), action=1, done=False, reward=0, game_stat=0),\n",
       " ExperienceEpisode(state=array([[ 0.,  0.,  0.,  0.],\n",
       "        [ 0.,  0.,  4.,  4.],\n",
       "        [ 0.,  0., 32., 32.],\n",
       "        [ 2.,  8., 16.,  2.]]), action=1, done=False, reward=0, game_stat=0)]"
      ]
     },
     "execution_count": 315,
     "metadata": {},
     "output_type": "execute_result"
    }
   ],
   "source": [
    "exp.history[30:45]"
   ]
  },
  {
   "cell_type": "code",
   "execution_count": 321,
   "metadata": {},
   "outputs": [
    {
     "data": {
      "text/plain": [
       "tensor([ 1.0507, 12.3679,  3.4345,  1.6819], grad_fn=<AddBackward0>)"
      ]
     },
     "execution_count": 321,
     "metadata": {},
     "output_type": "execute_result"
    }
   ],
   "source": [
    "model()"
   ]
  },
  {
   "cell_type": "code",
   "execution_count": 327,
   "metadata": {},
   "outputs": [],
   "source": [
    "a1 = model(agent.preprocess(np.array([[ 0.,  0.,  0.,  0.],\n",
    "        [ 0.,  0.,  4.,  4.],\n",
    "        [ 0.,  0., 32., 32.],\n",
    "        [ 2.,  8., 16.,  2.]])))"
   ]
  },
  {
   "cell_type": "code",
   "execution_count": 329,
   "metadata": {},
   "outputs": [],
   "source": [
    "probs = F.softmax(a1, dim = 0).detach().numpy()"
   ]
  },
  {
   "cell_type": "code",
   "execution_count": 330,
   "metadata": {},
   "outputs": [
    {
     "data": {
      "text/plain": [
       "array([1.2159323e-05, 9.9983299e-01, 1.3188559e-04, 2.2857925e-05],\n",
       "      dtype=float32)"
      ]
     },
     "execution_count": 330,
     "metadata": {},
     "output_type": "execute_result"
    }
   ],
   "source": [
    "probs"
   ]
  },
  {
   "cell_type": "code",
   "execution_count": 326,
   "metadata": {},
   "outputs": [
    {
     "data": {
      "text/plain": [
       "Model(\n",
       "  (net): Sequential(\n",
       "    (0): Linear(in_features=16, out_features=128, bias=True)\n",
       "    (1): ReLU()\n",
       "    (2): Linear(in_features=128, out_features=4, bias=True)\n",
       "  )\n",
       ")"
      ]
     },
     "execution_count": 326,
     "metadata": {},
     "output_type": "execute_result"
    }
   ],
   "source": [
    "model"
   ]
  },
  {
   "cell_type": "code",
   "execution_count": null,
   "metadata": {},
   "outputs": [],
   "source": []
  }
 ],
 "metadata": {
  "kernelspec": {
   "display_name": "Python 3",
   "language": "python",
   "name": "python3"
  },
  "language_info": {
   "codemirror_mode": {
    "name": "ipython",
    "version": 3
   },
   "file_extension": ".py",
   "mimetype": "text/x-python",
   "name": "python",
   "nbconvert_exporter": "python",
   "pygments_lexer": "ipython3",
   "version": "3.8.3"
  }
 },
 "nbformat": 4,
 "nbformat_minor": 4
}
